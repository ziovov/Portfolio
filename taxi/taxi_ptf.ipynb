{
 "cells": [
  {
   "cell_type": "markdown",
   "metadata": {
    "toc": true
   },
   "source": [
    "<h1>Содержание<span class=\"tocSkip\"></span></h1>\n",
    "<div class=\"toc\"><ul class=\"toc-item\"><li><span><a href=\"#Подготовка\" data-toc-modified-id=\"Подготовка-1\"><span class=\"toc-item-num\">1&nbsp;&nbsp;</span>Подготовка</a></span></li><li><span><a href=\"#Анализ\" data-toc-modified-id=\"Анализ-2\"><span class=\"toc-item-num\">2&nbsp;&nbsp;</span>Анализ</a></span></li><li><span><a href=\"#Обучение\" data-toc-modified-id=\"Обучение-3\"><span class=\"toc-item-num\">3&nbsp;&nbsp;</span>Обучение</a></span><ul class=\"toc-item\"><li><span><a href=\"#Линейная-регрессия.\" data-toc-modified-id=\"Линейная-регрессия.-3.1\"><span class=\"toc-item-num\">3.1&nbsp;&nbsp;</span>Линейная регрессия.</a></span></li><li><span><a href=\"#Ridge\" data-toc-modified-id=\"Ridge-3.2\"><span class=\"toc-item-num\">3.2&nbsp;&nbsp;</span>Ridge</a></span></li><li><span><a href=\"#Lasso\" data-toc-modified-id=\"Lasso-3.3\"><span class=\"toc-item-num\">3.3&nbsp;&nbsp;</span>Lasso</a></span></li><li><span><a href=\"#CatBoost\" data-toc-modified-id=\"CatBoost-3.4\"><span class=\"toc-item-num\">3.4&nbsp;&nbsp;</span>CatBoost</a></span></li></ul></li><li><span><a href=\"#Тестирование\" data-toc-modified-id=\"Тестирование-4\"><span class=\"toc-item-num\">4&nbsp;&nbsp;</span>Тестирование</a></span></li><li><span><a href=\"#Выводы\" data-toc-modified-id=\"Выводы-5\"><span class=\"toc-item-num\">5&nbsp;&nbsp;</span>Выводы</a></span></li></ul></div>"
   ]
  },
  {
   "cell_type": "markdown",
   "metadata": {},
   "source": [
    "#  Прогнозирование заказов такси"
   ]
  },
  {
   "cell_type": "markdown",
   "metadata": {},
   "source": [
    "Таксомоторная компания собрала исторические данные о заказах такси в аэропортах. Чтобы привлекать больше водителей в период пиковой нагрузки, нужно спрогнозировать количество заказов такси на следующий час. Постройте модель для такого предсказания.\n",
    "\n",
    "Значение метрики *RMSE* на тестовой выборке должно быть не больше 48.\n",
    "\n",
    "Вам нужно:\n",
    "\n",
    "1. Загрузить данные и выполнить их ресемплирование по одному часу.\n",
    "2. Проанализировать данные.\n",
    "3. Обучить разные модели с различными гиперпараметрами. Сделать тестовую выборку размером 10% от исходных данных.\n",
    "4. Проверить данные на тестовой выборке и сделать выводы.\n",
    "\n",
    "\n",
    "Данные лежат в файле `taxi.csv`. Количество заказов находится в столбце `num_orders` (от англ. *number of orders*, «число заказов»)."
   ]
  },
  {
   "cell_type": "markdown",
   "metadata": {},
   "source": [
    "## Подготовка"
   ]
  },
  {
   "cell_type": "code",
   "execution_count": 1,
   "metadata": {},
   "outputs": [],
   "source": [
    "RS = 12345 # константа для random_state"
   ]
  },
  {
   "cell_type": "code",
   "execution_count": 2,
   "metadata": {},
   "outputs": [],
   "source": [
    "import pandas as pd\n",
    "from statsmodels.tsa.seasonal import seasonal_decompose\n",
    "import matplotlib.pyplot as plt\n",
    "import numpy as np\n",
    "from sklearn.model_selection import train_test_split\n",
    "from sklearn.linear_model import (LinearRegression, \n",
    "                                  Ridge, \n",
    "                                  Lasso)\n",
    "from sklearn.metrics import (mean_absolute_error, \n",
    "                             mean_squared_error)\n",
    "import warnings\n",
    "from catboost import CatBoostRegressor\n",
    "from sklearn.model_selection import (TimeSeriesSplit,  \n",
    "                                     GridSearchCV)"
   ]
  },
  {
   "cell_type": "code",
   "execution_count": 3,
   "metadata": {},
   "outputs": [],
   "source": [
    "try:\n",
    "    data = pd.read_csv('/datasets/taxi.csv', index_col=[0], parse_dates=[0])\n",
    "except:\n",
    "    data = pd.read_csv('taxi.csv', index_col=[0], parse_dates=[0])"
   ]
  },
  {
   "cell_type": "markdown",
   "metadata": {},
   "source": [
    "Посмотрим на данные"
   ]
  },
  {
   "cell_type": "code",
   "execution_count": 4,
   "metadata": {},
   "outputs": [
    {
     "data": {
      "text/html": [
       "<div>\n",
       "<style scoped>\n",
       "    .dataframe tbody tr th:only-of-type {\n",
       "        vertical-align: middle;\n",
       "    }\n",
       "\n",
       "    .dataframe tbody tr th {\n",
       "        vertical-align: top;\n",
       "    }\n",
       "\n",
       "    .dataframe thead th {\n",
       "        text-align: right;\n",
       "    }\n",
       "</style>\n",
       "<table border=\"1\" class=\"dataframe\">\n",
       "  <thead>\n",
       "    <tr style=\"text-align: right;\">\n",
       "      <th></th>\n",
       "      <th>num_orders</th>\n",
       "    </tr>\n",
       "    <tr>\n",
       "      <th>datetime</th>\n",
       "      <th></th>\n",
       "    </tr>\n",
       "  </thead>\n",
       "  <tbody>\n",
       "    <tr>\n",
       "      <th>2018-03-01 00:00:00</th>\n",
       "      <td>9</td>\n",
       "    </tr>\n",
       "    <tr>\n",
       "      <th>2018-03-01 00:10:00</th>\n",
       "      <td>14</td>\n",
       "    </tr>\n",
       "    <tr>\n",
       "      <th>2018-03-01 00:20:00</th>\n",
       "      <td>28</td>\n",
       "    </tr>\n",
       "    <tr>\n",
       "      <th>2018-03-01 00:30:00</th>\n",
       "      <td>20</td>\n",
       "    </tr>\n",
       "    <tr>\n",
       "      <th>2018-03-01 00:40:00</th>\n",
       "      <td>32</td>\n",
       "    </tr>\n",
       "  </tbody>\n",
       "</table>\n",
       "</div>"
      ],
      "text/plain": [
       "                     num_orders\n",
       "datetime                       \n",
       "2018-03-01 00:00:00           9\n",
       "2018-03-01 00:10:00          14\n",
       "2018-03-01 00:20:00          28\n",
       "2018-03-01 00:30:00          20\n",
       "2018-03-01 00:40:00          32"
      ]
     },
     "execution_count": 4,
     "metadata": {},
     "output_type": "execute_result"
    }
   ],
   "source": [
    "data.head()"
   ]
  },
  {
   "cell_type": "code",
   "execution_count": 5,
   "metadata": {},
   "outputs": [
    {
     "name": "stdout",
     "output_type": "stream",
     "text": [
      "<class 'pandas.core.frame.DataFrame'>\n",
      "DatetimeIndex: 26496 entries, 2018-03-01 00:00:00 to 2018-08-31 23:50:00\n",
      "Data columns (total 1 columns):\n",
      " #   Column      Non-Null Count  Dtype\n",
      "---  ------      --------------  -----\n",
      " 0   num_orders  26496 non-null  int64\n",
      "dtypes: int64(1)\n",
      "memory usage: 414.0 KB\n"
     ]
    }
   ],
   "source": [
    "data.info()"
   ]
  },
  {
   "cell_type": "markdown",
   "metadata": {},
   "source": [
    "Проверим, действительно ли данные расположены в хронологическом порядке."
   ]
  },
  {
   "cell_type": "code",
   "execution_count": 6,
   "metadata": {},
   "outputs": [
    {
     "name": "stdout",
     "output_type": "stream",
     "text": [
      "<class 'pandas.core.frame.DataFrame'>\n",
      "DatetimeIndex: 26496 entries, 2018-03-01 00:00:00 to 2018-08-31 23:50:00\n",
      "Data columns (total 1 columns):\n",
      " #   Column      Non-Null Count  Dtype\n",
      "---  ------      --------------  -----\n",
      " 0   num_orders  26496 non-null  int64\n",
      "dtypes: int64(1)\n",
      "memory usage: 414.0 KB\n",
      "\n",
      "Индексы расположены в порядке возрастания\n"
     ]
    }
   ],
   "source": [
    "data.info()\n",
    "print('\\nИндексы расположены в порядке возрастания' if data.index.is_monotonic_increasing else \n",
    "      'Индексы не расположены в поряядке возрастания')"
   ]
  },
  {
   "cell_type": "markdown",
   "metadata": {},
   "source": [
    "Пропусков нет, тип данных соответствует их смыслу.  \n",
    "Сделаем ресемплинг данных, чтобы получить количество заказов за каждый час."
   ]
  },
  {
   "cell_type": "code",
   "execution_count": 7,
   "metadata": {},
   "outputs": [],
   "source": [
    "data = data.resample('1H').sum()"
   ]
  },
  {
   "cell_type": "markdown",
   "metadata": {},
   "source": [
    "Посмотрим на временной диапазон данных."
   ]
  },
  {
   "cell_type": "code",
   "execution_count": 8,
   "metadata": {},
   "outputs": [
    {
     "name": "stdout",
     "output_type": "stream",
     "text": [
      "Первое наблюдение: 2018-03-01 00:00:00\n",
      "Последнее наблюдение: 2018-08-31 23:00:00\n"
     ]
    }
   ],
   "source": [
    "print(f'Первое наблюдение: {data.index.min()}')\n",
    "print(f'Последнее наблюдение: {data.index.max()}')"
   ]
  },
  {
   "cell_type": "markdown",
   "metadata": {},
   "source": [
    "## Анализ\n",
    "\n",
    "Посмотрим на скользящее среднее с размером окна 24 часа."
   ]
  },
  {
   "cell_type": "code",
   "execution_count": null,
   "metadata": {},
   "outputs": [],
   "source": [
    "data['rolling_mean'] = data['num_orders'].rolling(24).mean()\n",
    "\n",
    "data.plot(figsize = (10,4), title = 'График количества заказов и скользящее среднее (окно 24 часа)');"
   ]
  },
  {
   "cell_type": "markdown",
   "metadata": {},
   "source": [
    "На графике видно наличие среднесуточных колебаний количества заказов, а также заметен тренд на увеличение количества заказов."
   ]
  },
  {
   "cell_type": "markdown",
   "metadata": {},
   "source": [
    "Рассмотрим тренд, сезонность и случайную составляющую в целевом признаке."
   ]
  },
  {
   "cell_type": "code",
   "execution_count": null,
   "metadata": {},
   "outputs": [],
   "source": [
    "decomposed = seasonal_decompose(data['num_orders'])"
   ]
  },
  {
   "cell_type": "code",
   "execution_count": null,
   "metadata": {},
   "outputs": [],
   "source": [
    "plt.figure(figsize=(10, 10))\n",
    "plt.subplot(411)\n",
    "\n",
    "decomposed.trend.plot()\n",
    "plt.title('Trend на всем периоде') \n",
    "plt.subplot(412)\n",
    "decomposed.trend['2018-05-01':'2018-05-15'].plot()\n",
    "plt.title('Trend за две недели')\n",
    "plt.subplot(413)\n",
    "decomposed.seasonal['2018-05-01':'2018-05-15'].plot()\n",
    "plt.title('Seasonality за две недели')\n",
    "plt.subplot(414)\n",
    "decomposed.resid.plot()\n",
    "plt.title('Residuals на всем периоде')\n",
    "plt.tight_layout()"
   ]
  },
  {
   "cell_type": "markdown",
   "metadata": {},
   "source": [
    "\n",
    "Построим автокорреляционную функцию.\n"
   ]
  },
  {
   "cell_type": "code",
   "execution_count": null,
   "metadata": {},
   "outputs": [],
   "source": [
    "from statsmodels.graphics import tsaplots\n",
    "\n",
    "fig = tsaplots.plot_acf(data['num_orders'],lags= 190)\n",
    "fig.set_size_inches(18.5, 6)\n",
    "plt.ylim(-.1, 1.1)\n",
    "plt.show() "
   ]
  },
  {
   "cell_type": "markdown",
   "metadata": {},
   "source": [
    "На графиках виден восходящий тренд, его периодичность по неделям и суточная периодичность сезонности и автокорреляционной функции."
   ]
  },
  {
   "cell_type": "markdown",
   "metadata": {},
   "source": [
    "## Обучение\n",
    "\n",
    "Поскольку мы работаем с временными рядими, и виден тренд на увеличение целевого признака, целесообразно применять линейные модели, потому что они обладают хорошей способностью экстраполировать предсказания. Экстраполирующие способности моделей на основе решающих деревьев ограничены. Также при работе с временными рядами нельзя использовать стандартную кросс-валидацию. Будем использовать TimeSeriesSplit. "
   ]
  },
  {
   "cell_type": "markdown",
   "metadata": {},
   "source": [
    "Подготовим данные. Возьмем информацию о времени, дне недели, суточное скользящее среднее и лаги за неделю."
   ]
  },
  {
   "cell_type": "code",
   "execution_count": null,
   "metadata": {},
   "outputs": [],
   "source": [
    "data = data[['num_orders']].copy()\n",
    "\n",
    "data['dayofweek'] = data.index.dayofweek\n",
    "data['hour'] = data.index.hour\n",
    "\n",
    "warnings.filterwarnings('ignore')\n",
    "for lag in range(1, 168 + 1):\n",
    "    data['lag_{}'.format(lag)] = data['num_orders'].shift(lag)\n",
    "data['rolling_mean'] = data['num_orders'].shift().rolling(24).mean()\n",
    "warnings.filterwarnings('default')\n",
    "data = data.dropna()\n",
    "\n",
    "data.shape"
   ]
  },
  {
   "cell_type": "markdown",
   "metadata": {},
   "source": [
    "Разделим данные на обучающие и тестовые."
   ]
  },
  {
   "cell_type": "code",
   "execution_count": null,
   "metadata": {},
   "outputs": [],
   "source": [
    "train, test = train_test_split(data, test_size=0.1, shuffle=False)\n",
    "\n",
    "features_train = train.drop(columns = ['num_orders'])\n",
    "features_test = test.drop(columns = ['num_orders'])\n",
    "target_train = train['num_orders']\n",
    "target_test = test['num_orders']\n",
    "    \n",
    "features_train.shape, features_test.shape, target_train.shape, target_test.shape\n"
   ]
  },
  {
   "cell_type": "code",
   "execution_count": null,
   "metadata": {},
   "outputs": [],
   "source": [
    "def params_search(model, X, y, param_grid):\n",
    "    \"\"\"\n",
    "    Функция обучает модель и печатает лучшую метрику\n",
    "    \"\"\"\n",
    "    tscv = TimeSeriesSplit(n_splits=10)\n",
    "    gsearch = GridSearchCV(estimator=model, cv=tscv, param_grid=param_grid, scoring='neg_root_mean_squared_error', verbose=10)\n",
    "    gsearch.fit(X, y)\n",
    "    print('\\nBest_score:', -gsearch.best_score_)\n",
    "    print('Best_params:', gsearch.best_params_)\n",
    "    return gsearch.best_estimator_"
   ]
  },
  {
   "cell_type": "markdown",
   "metadata": {},
   "source": [
    "### Линейная регрессия.\n"
   ]
  },
  {
   "cell_type": "code",
   "execution_count": null,
   "metadata": {
    "scrolled": true
   },
   "outputs": [],
   "source": [
    "model_lr = LinearRegression()\n",
    "params_lr = [{}]\n",
    "model_lr = params_search(model_lr, features_train, target_train, params_lr)"
   ]
  },
  {
   "cell_type": "markdown",
   "metadata": {},
   "source": [
    "### Ridge\n",
    "\n",
    " Подберем гиперпараметры для регресии Ridge."
   ]
  },
  {
   "cell_type": "code",
   "execution_count": null,
   "metadata": {
    "scrolled": false
   },
   "outputs": [],
   "source": [
    "model_ridge = Ridge(random_state=RS)\n",
    "params_ridge = [{'alpha' : np.arange(0, 5, 0.2), 'solver' : ['cholesky', 'sparse_cg', 'lbfgs'], \n",
    "                 'positive' : [True, False]}]\n",
    "warnings.filterwarnings('ignore')\n",
    "model_ridge = params_search(model_ridge, features_train, target_train, params_ridge)\n",
    "warnings.filterwarnings('default')"
   ]
  },
  {
   "cell_type": "markdown",
   "metadata": {},
   "source": [
    "### Lasso\n",
    "\n",
    " Подберем гиперпараметры для регресии Lasso."
   ]
  },
  {
   "cell_type": "code",
   "execution_count": null,
   "metadata": {
    "scrolled": true
   },
   "outputs": [],
   "source": [
    "model_lasso = Ridge(random_state=RS)\n",
    "params_lasso = [{'alpha' : np.arange(0, 5, 0.2), 'max_iter' : range(100, 3000, 100)}]\n",
    "warnings.filterwarnings('ignore')\n",
    "model_lasso = params_search(model_lasso, features_train, target_train, params_lasso)\n",
    "warnings.filterwarnings('default')"
   ]
  },
  {
   "cell_type": "markdown",
   "metadata": {},
   "source": [
    "### CatBoost"
   ]
  },
  {
   "cell_type": "code",
   "execution_count": null,
   "metadata": {},
   "outputs": [],
   "source": [
    "model_cb = CatBoostRegressor(random_state=RS)\n",
    "params_cb = [{'learning_rate' : np.arange(0.1, 0.6, 0.1), 'depth': [4, 6]}]\n",
    "warnings.filterwarnings('ignore')\n",
    "model_cb = params_search(model_cb, features_train, target_train, params_cb)\n",
    "warnings.filterwarnings('default')"
   ]
  },
  {
   "cell_type": "markdown",
   "metadata": {},
   "source": [
    "Лучший результат на валидации показала  регрессия CatBoost.\n",
    "\n",
    "## Тестирование\n",
    "\n",
    "Лучший результат на валидации показала  регрессия CatBoost. Однако она значительно более ресурсоемкая и долго обучается. Результаты линейных моделей отличаются незначительно, но они гораздо быстрее работают. Поэтому проверим на тестовой выборке модели CatBoost и Ridge. "
   ]
  },
  {
   "cell_type": "code",
   "execution_count": null,
   "metadata": {},
   "outputs": [],
   "source": [
    "# расчет RMSE CatBoost на тестовой выборке\n",
    "pred = model_cb.predict(features_test)\n",
    "print('RMSE CatBoost на тестовой выборке', mean_squared_error(target_test, pred)**0.5)"
   ]
  },
  {
   "cell_type": "code",
   "execution_count": null,
   "metadata": {},
   "outputs": [],
   "source": [
    "# расчет RMSE Ridge на тестовой выборке\n",
    "pred = model_ridge.predict(features_test)\n",
    "print('RMSE Ridge на тестовой выборке', mean_squared_error(target_test, pred)**0.5)"
   ]
  },
  {
   "cell_type": "markdown",
   "metadata": {},
   "source": [
    "Проверим модель на адекваьность. Сравним нашу модель с dummy-моделью, которая в качестве предсказания берет предыдущие значения."
   ]
  },
  {
   "cell_type": "code",
   "execution_count": null,
   "metadata": {},
   "outputs": [],
   "source": [
    "# получение предсказаний dummy-модели\n",
    "pred_previous = target_test.shift()\n",
    "pred_previous.iloc[0] = target_train.iloc[-1]\n",
    "\n",
    "# печать RMSE dummy-модели\n",
    "print('RMSE Dummy на тестовой выборке', mean_squared_error(target_test, pred_previous)**0.5)"
   ]
  },
  {
   "cell_type": "markdown",
   "metadata": {},
   "source": [
    "Разработанные модели адекватны."
   ]
  },
  {
   "cell_type": "markdown",
   "metadata": {},
   "source": [
    "## Выводы\n",
    "\n",
    "В рамках проекта было проведено исследование данных по заказам такси в период с 01.03.2018 по 31.08.2018. Был обнаружен тренд на увеличение количества заказов, в связи с чем для прогнозирования использовались в основном линейные модели. В набор данных для прогнозирования были включены следующие параметры:\n",
    "- час\n",
    "- день недели\n",
    "- значения целевого параметра за предыдущие 168 часов (одна неделя)\n",
    "- скользящее среднее за предыдущие 24 часа.\n",
    "\n",
    "Были созданы модели на основе линейной регрессии, Ridge, Lasso и CatBoost. Они показали близкие RMSE на валидационной выборке (21.9 - 22.52). В финальном тестировании участвовали две модели:  CatBoost и Ridge. При этом первая, показавшая лучший результат на валидации, на тесте показала результат хуже. Это может быть связано с особенностью данных, где тренд увеличения количества заказов усиливается в конце выборки (тестовая часть). Линейная модель продемонстрировала лучшую экстраполирующую способность.\n",
    "\n",
    "Результаты тестирования:\n",
    "- RMSE CatBoost: 37.75\n",
    "- RMSE Ridge: 34.24"
   ]
  }
 ],
 "metadata": {
  "ExecuteTimeLog": [
   {
    "duration": 10,
    "start_time": "2023-05-11T09:53:59.822Z"
   },
   {
    "duration": 3017,
    "start_time": "2023-05-11T09:53:59.834Z"
   },
   {
    "duration": 48,
    "start_time": "2023-05-11T09:54:02.853Z"
   },
   {
    "duration": 14,
    "start_time": "2023-05-11T09:54:02.904Z"
   },
   {
    "duration": 40,
    "start_time": "2023-05-11T09:54:02.920Z"
   },
   {
    "duration": 14,
    "start_time": "2023-05-11T09:54:02.962Z"
   },
   {
    "duration": 34,
    "start_time": "2023-05-11T09:54:02.978Z"
   },
   {
    "duration": 7,
    "start_time": "2023-05-11T09:54:03.014Z"
   },
   {
    "duration": 6,
    "start_time": "2023-05-11T09:54:03.023Z"
   },
   {
    "duration": 18,
    "start_time": "2023-05-11T09:54:03.031Z"
   },
   {
    "duration": 583,
    "start_time": "2023-05-11T09:54:03.051Z"
   },
   {
    "duration": 5,
    "start_time": "2023-05-11T09:54:03.636Z"
   },
   {
    "duration": 370,
    "start_time": "2023-05-11T09:54:03.643Z"
   }
  ],
  "kernelspec": {
   "display_name": "Python 3 (ipykernel)",
   "language": "python",
   "name": "python3"
  },
  "language_info": {
   "codemirror_mode": {
    "name": "ipython",
    "version": 3
   },
   "file_extension": ".py",
   "mimetype": "text/x-python",
   "name": "python",
   "nbconvert_exporter": "python",
   "pygments_lexer": "ipython3",
   "version": "3.9.16"
  },
  "toc": {
   "base_numbering": 1,
   "nav_menu": {
    "height": "216px",
    "width": "213px"
   },
   "number_sections": true,
   "sideBar": true,
   "skip_h1_title": true,
   "title_cell": "Содержание",
   "title_sidebar": "Contents",
   "toc_cell": true,
   "toc_position": {
    "height": "calc(100% - 180px)",
    "left": "10px",
    "top": "150px",
    "width": "268.475px"
   },
   "toc_section_display": true,
   "toc_window_display": false
  }
 },
 "nbformat": 4,
 "nbformat_minor": 2
}
